{
 "cells": [
  {
   "cell_type": "code",
   "execution_count": null,
   "metadata": {},
   "outputs": [],
   "source": [
    "import pandas as pd\n",
    "import seaborn as sns"
   ]
  },
  {
   "cell_type": "code",
   "execution_count": null,
   "metadata": {},
   "outputs": [],
   "source": [
    "df = pd.read_pickle(\"stats.pkl\")"
   ]
  },
  {
   "cell_type": "code",
   "execution_count": null,
   "metadata": {},
   "outputs": [],
   "source": [
    "df['price_GBP'] = df['amount_fiat'] / df['amount_crypto']"
   ]
  },
  {
   "cell_type": "code",
   "execution_count": null,
   "metadata": {},
   "outputs": [],
   "source": [
    "df.head()"
   ]
  },
  {
   "cell_type": "code",
   "execution_count": null,
   "metadata": {},
   "outputs": [],
   "source": [
    "df.describe()"
   ]
  },
  {
   "cell_type": "code",
   "execution_count": null,
   "metadata": {},
   "outputs": [],
   "source": [
    "# get spending per month\n",
    "# get average spend per month\n",
    "monthly_spend_fiat = df.groupby([df.date.dt.year.rename('year'), df.date.dt.month.rename('month')])['amount_fiat'].sum()\n",
    "monthly_spend_crypto = df.groupby([df.date.dt.year.rename('year'), df.date.dt.month.rename('month')])['amount_crypto'].sum()\n",
    "\n",
    "monthly_spend = pd.DataFrame([monthly_spend_fiat, monthly_spend_crypto])\n",
    "monthly_spend"
   ]
  },
  {
   "cell_type": "code",
   "execution_count": null,
   "metadata": {},
   "outputs": [],
   "source": [
    "monthly_dict = {'average market price': [], 'year': [], 'month': [], 'spend fiat': [], 'spend crypto': []}\n",
    "for col in monthly_spend.columns:\n",
    "    monthly_dict['average market price'].append(monthly_spend[col]['amount_fiat'] / monthly_spend[col]['amount_crypto'])\n",
    "    monthly_dict['year'].append(col[0])\n",
    "    monthly_dict['month'].append(col[1])\n",
    "    monthly_dict['spend fiat'].append(monthly_spend[col]['amount_fiat'])\n",
    "    monthly_dict['spend crypto'].append(monthly_spend[col]['amount_crypto'])\n",
    "\n",
    "\n",
    "\n",
    "monthly_df = pd.DataFrame.from_dict(monthly_dict)\n",
    "monthly_df"
   ]
  },
  {
   "cell_type": "code",
   "execution_count": null,
   "metadata": {},
   "outputs": [],
   "source": [
    "monthly_df[['average market price', 'spend fiat', 'spend crypto']].describe()"
   ]
  },
  {
   "cell_type": "code",
   "execution_count": null,
   "metadata": {},
   "outputs": [],
   "source": [
    "sns.set_style('whitegrid')\n",
    "# sns.set_palette(sns.color_palette(\"pastel\"))\n",
    "\n",
    "sns.lineplot(x='date',y='price_GBP',data=df, linewidth=3, marker='o').set(title='Purchase Prices over time in GBP', ylabel='price')\n",
    "sns.lineplot(x='date',y=df.describe().loc['mean']['price_GBP'],data=df, linewidth=4, color='red')\n",
    "\n",
    "sns.set( rc = {'figure.figsize' : ( 20, 20 ), \n",
    "               'axes.labelsize' : 9 })\n",
    "\n"
   ]
  },
  {
   "cell_type": "code",
   "execution_count": null,
   "metadata": {},
   "outputs": [],
   "source": []
  }
 ],
 "metadata": {
  "kernelspec": {
   "display_name": "Python 3",
   "language": "python",
   "name": "python3"
  },
  "language_info": {
   "codemirror_mode": {
    "name": "ipython",
    "version": 3
   },
   "file_extension": ".py",
   "mimetype": "text/x-python",
   "name": "python",
   "nbconvert_exporter": "python",
   "pygments_lexer": "ipython3",
   "version": "3.9.0"
  },
  "orig_nbformat": 4,
  "vscode": {
   "interpreter": {
    "hash": "c65a741a3cc781bba8ca3636aa184afcfe01cb8c46c44a862f30a399c3eb8114"
   }
  }
 },
 "nbformat": 4,
 "nbformat_minor": 2
}
